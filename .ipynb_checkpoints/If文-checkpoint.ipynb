{
 "cells": [
  {
   "cell_type": "code",
   "execution_count": 11,
   "id": "02370249",
   "metadata": {},
   "outputs": [],
   "source": [
    "a = 30\n",
    "b = 20"
   ]
  },
  {
   "cell_type": "code",
   "execution_count": 12,
   "id": "ccb929c4",
   "metadata": {},
   "outputs": [
    {
     "name": "stdout",
     "output_type": "stream",
     "text": [
      "aはbより大きいです。\n"
     ]
    }
   ],
   "source": [
    "if a < b :\n",
    "    print(\"aはbより小さいです。\")\n",
    "elif a == b :\n",
    "    print(\"aとbは等しいです。\")\n",
    "else :\n",
    "    print(\"aはbより大きいです。\")"
   ]
  },
  {
   "cell_type": "code",
   "execution_count": 21,
   "id": "1e39367f",
   "metadata": {},
   "outputs": [
    {
     "name": "stdout",
     "output_type": "stream",
     "text": [
      "aはbより大きいです。\n",
      "40\n"
     ]
    }
   ],
   "source": [
    "a = 40\n",
    "b = 20\n",
    "if a < b :\n",
    "    print(\"aはbより小さいです。\")\n",
    "    print(a + b)\n",
    "else :\n",
    "    print(\"aはbより大きいです。\")\n",
    "    print(a)"
   ]
  },
  {
   "cell_type": "code",
   "execution_count": null,
   "id": "321029ea",
   "metadata": {},
   "outputs": [],
   "source": []
  }
 ],
 "metadata": {
  "kernelspec": {
   "display_name": "Python 3 (ipykernel)",
   "language": "python",
   "name": "python3"
  },
  "language_info": {
   "codemirror_mode": {
    "name": "ipython",
    "version": 3
   },
   "file_extension": ".py",
   "mimetype": "text/x-python",
   "name": "python",
   "nbconvert_exporter": "python",
   "pygments_lexer": "ipython3",
   "version": "3.12.6"
  }
 },
 "nbformat": 4,
 "nbformat_minor": 5
}
