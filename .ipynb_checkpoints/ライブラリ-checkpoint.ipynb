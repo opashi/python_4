{
 "cells": [
  {
   "cell_type": "code",
   "execution_count": 1,
   "id": "30b826e5",
   "metadata": {},
   "outputs": [
    {
     "name": "stdout",
     "output_type": "stream",
     "text": [
      "Collecting jpholiday\n",
      "  Downloading jpholiday-0.1.10-py3-none-any.whl.metadata (6.4 kB)\n",
      "Downloading jpholiday-0.1.10-py3-none-any.whl (9.8 kB)\n",
      "Installing collected packages: jpholiday\n",
      "Successfully installed jpholiday-0.1.10\n"
     ]
    }
   ],
   "source": [
    "!pip install jpholiday"
   ]
  },
  {
   "cell_type": "code",
   "execution_count": 2,
   "id": "9def8081",
   "metadata": {},
   "outputs": [],
   "source": [
    "import jpholiday"
   ]
  },
  {
   "cell_type": "code",
   "execution_count": 7,
   "id": "8db06327",
   "metadata": {},
   "outputs": [
    {
     "data": {
      "text/plain": [
       "[(datetime.date(2021, 1, 1), '元日'),\n",
       " (datetime.date(2021, 1, 11), '成人の日'),\n",
       " (datetime.date(2021, 2, 11), '建国記念の日'),\n",
       " (datetime.date(2021, 2, 23), '天皇誕生日'),\n",
       " (datetime.date(2021, 3, 20), '春分の日'),\n",
       " (datetime.date(2021, 4, 29), '昭和の日'),\n",
       " (datetime.date(2021, 5, 3), '憲法記念日'),\n",
       " (datetime.date(2021, 5, 4), 'みどりの日'),\n",
       " (datetime.date(2021, 5, 5), 'こどもの日'),\n",
       " (datetime.date(2021, 7, 22), '海の日'),\n",
       " (datetime.date(2021, 7, 23), 'スポーツの日'),\n",
       " (datetime.date(2021, 8, 8), '山の日'),\n",
       " (datetime.date(2021, 8, 9), '山の日 振替休日'),\n",
       " (datetime.date(2021, 9, 20), '敬老の日'),\n",
       " (datetime.date(2021, 9, 23), '秋分の日'),\n",
       " (datetime.date(2021, 11, 3), '文化の日'),\n",
       " (datetime.date(2021, 11, 23), '勤労感謝の日')]"
      ]
     },
     "execution_count": 7,
     "metadata": {},
     "output_type": "execute_result"
    }
   ],
   "source": [
    "jpholiday.year_holidays(2021)"
   ]
  },
  {
   "cell_type": "code",
   "execution_count": 8,
   "id": "07cbc4ee",
   "metadata": {},
   "outputs": [
    {
     "data": {
      "text/plain": [
       "17"
      ]
     },
     "execution_count": 8,
     "metadata": {},
     "output_type": "execute_result"
    }
   ],
   "source": [
    "len(jpholiday.year_holidays(2021))"
   ]
  },
  {
   "cell_type": "code",
   "execution_count": 9,
   "id": "aebaaa3b",
   "metadata": {},
   "outputs": [
    {
     "data": {
      "text/plain": [
       "18"
      ]
     },
     "execution_count": 9,
     "metadata": {},
     "output_type": "execute_result"
    }
   ],
   "source": [
    "len(jpholiday.year_holidays(2020))"
   ]
  },
  {
   "cell_type": "code",
   "execution_count": 11,
   "id": "b9821a53",
   "metadata": {},
   "outputs": [
    {
     "data": {
      "text/plain": [
       "[(datetime.date(2020, 1, 1), '元日'),\n",
       " (datetime.date(2020, 1, 13), '成人の日'),\n",
       " (datetime.date(2020, 2, 11), '建国記念の日'),\n",
       " (datetime.date(2020, 2, 23), '天皇誕生日'),\n",
       " (datetime.date(2020, 2, 24), '天皇誕生日 振替休日'),\n",
       " (datetime.date(2020, 3, 20), '春分の日'),\n",
       " (datetime.date(2020, 4, 29), '昭和の日'),\n",
       " (datetime.date(2020, 5, 3), '憲法記念日'),\n",
       " (datetime.date(2020, 5, 4), 'みどりの日'),\n",
       " (datetime.date(2020, 5, 5), 'こどもの日'),\n",
       " (datetime.date(2020, 5, 6), '憲法記念日 振替休日'),\n",
       " (datetime.date(2020, 7, 23), '海の日'),\n",
       " (datetime.date(2020, 7, 24), 'スポーツの日'),\n",
       " (datetime.date(2020, 8, 10), '山の日'),\n",
       " (datetime.date(2020, 9, 21), '敬老の日'),\n",
       " (datetime.date(2020, 9, 22), '秋分の日'),\n",
       " (datetime.date(2020, 11, 3), '文化の日'),\n",
       " (datetime.date(2020, 11, 23), '勤労感謝の日')]"
      ]
     },
     "execution_count": 11,
     "metadata": {},
     "output_type": "execute_result"
    }
   ],
   "source": [
    "jpholiday.year_holidays(2020)"
   ]
  },
  {
   "cell_type": "code",
   "execution_count": 12,
   "id": "29f6dfac",
   "metadata": {},
   "outputs": [
    {
     "name": "stdout",
     "output_type": "stream",
     "text": [
      "Collecting pyperclip\n",
      "  Downloading pyperclip-1.9.0.tar.gz (20 kB)\n",
      "  Installing build dependencies: started\n",
      "  Installing build dependencies: finished with status 'done'\n",
      "  Getting requirements to build wheel: started\n",
      "  Getting requirements to build wheel: finished with status 'done'\n",
      "  Preparing metadata (pyproject.toml): started\n",
      "  Preparing metadata (pyproject.toml): finished with status 'done'\n",
      "Building wheels for collected packages: pyperclip\n",
      "  Building wheel for pyperclip (pyproject.toml): started\n",
      "  Building wheel for pyperclip (pyproject.toml): finished with status 'done'\n",
      "  Created wheel for pyperclip: filename=pyperclip-1.9.0-py3-none-any.whl size=11019 sha256=24ea94044512bca75e821c54cba4d3c453b561b1795c6bf395778539deccd71e\n",
      "  Stored in directory: c:\\users\\mupea\\appdata\\local\\pip\\cache\\wheels\\e0\\e8\\fc\\8ab8aa326e33bc066ccd5f3ca9646eab4299881af933f94f09\n",
      "Successfully built pyperclip\n",
      "Installing collected packages: pyperclip\n",
      "Successfully installed pyperclip-1.9.0\n"
     ]
    }
   ],
   "source": [
    "!pip install pyperclip"
   ]
  },
  {
   "cell_type": "code",
   "execution_count": 13,
   "id": "958d316c",
   "metadata": {},
   "outputs": [],
   "source": [
    "import pyperclip"
   ]
  },
  {
   "cell_type": "code",
   "execution_count": 15,
   "id": "dfd732fe",
   "metadata": {},
   "outputs": [
    {
     "data": {
      "text/plain": [
       "'import pyperclip'"
      ]
     },
     "execution_count": 15,
     "metadata": {},
     "output_type": "execute_result"
    }
   ],
   "source": [
    "pyperclip.paste()"
   ]
  },
  {
   "cell_type": "code",
   "execution_count": 16,
   "id": "0d30ed02",
   "metadata": {},
   "outputs": [],
   "source": [
    "import os"
   ]
  },
  {
   "cell_type": "code",
   "execution_count": 17,
   "id": "6ffbd63d",
   "metadata": {},
   "outputs": [
    {
     "data": {
      "text/plain": [
       "'C:\\\\Users\\\\mupea\\\\OneDrive\\\\デスクトップ\\\\python\\\\4章'"
      ]
     },
     "execution_count": 17,
     "metadata": {},
     "output_type": "execute_result"
    }
   ],
   "source": [
    "os.getcwd()"
   ]
  },
  {
   "cell_type": "code",
   "execution_count": 18,
   "id": "9d932d28",
   "metadata": {},
   "outputs": [],
   "source": [
    "os.mkdir(\"test\")"
   ]
  },
  {
   "cell_type": "code",
   "execution_count": 19,
   "id": "738ae85d",
   "metadata": {},
   "outputs": [],
   "source": [
    "os.rename(\"test\",\"TEST\")"
   ]
  },
  {
   "cell_type": "code",
   "execution_count": 20,
   "id": "e0e68918",
   "metadata": {},
   "outputs": [],
   "source": [
    "import shutil"
   ]
  },
  {
   "cell_type": "code",
   "execution_count": 21,
   "id": "d9a78014",
   "metadata": {},
   "outputs": [
    {
     "data": {
      "text/plain": [
       "'C:\\\\Users\\\\mupea\\\\OneDrive\\\\デスクトップ\\\\TEST'"
      ]
     },
     "execution_count": 21,
     "metadata": {},
     "output_type": "execute_result"
    }
   ],
   "source": [
    "shutil.move(\"TEST\",\"C:\\\\Users\\\\mupea\\\\OneDrive\\\\デスクトップ\")"
   ]
  },
  {
   "cell_type": "code",
   "execution_count": 22,
   "id": "b023eedb",
   "metadata": {},
   "outputs": [],
   "source": [
    "shutil.rmtree(\"C:\\\\Users\\\\mupea\\\\OneDrive\\\\デスクトップ\\\\TEST\")"
   ]
  },
  {
   "cell_type": "code",
   "execution_count": 23,
   "id": "24921f54",
   "metadata": {},
   "outputs": [
    {
     "name": "stdout",
     "output_type": "stream",
     "text": [
      "Collecting matplotlib\n",
      "  Downloading matplotlib-3.9.2-cp312-cp312-win_amd64.whl.metadata (11 kB)\n",
      "Collecting contourpy>=1.0.1 (from matplotlib)\n",
      "  Downloading contourpy-1.3.0-cp312-cp312-win_amd64.whl.metadata (5.4 kB)\n",
      "Collecting cycler>=0.10 (from matplotlib)\n",
      "  Downloading cycler-0.12.1-py3-none-any.whl.metadata (3.8 kB)\n",
      "Collecting fonttools>=4.22.0 (from matplotlib)\n",
      "  Downloading fonttools-4.53.1-cp312-cp312-win_amd64.whl.metadata (165 kB)\n",
      "Collecting kiwisolver>=1.3.1 (from matplotlib)\n",
      "  Downloading kiwisolver-1.4.7-cp312-cp312-win_amd64.whl.metadata (6.4 kB)\n",
      "Collecting numpy>=1.23 (from matplotlib)\n",
      "  Downloading numpy-2.1.1-cp312-cp312-win_amd64.whl.metadata (59 kB)\n",
      "Requirement already satisfied: packaging>=20.0 in c:\\users\\mupea\\appdata\\local\\programs\\python\\python312\\lib\\site-packages (from matplotlib) (24.1)\n",
      "Collecting pillow>=8 (from matplotlib)\n",
      "  Downloading pillow-10.4.0-cp312-cp312-win_amd64.whl.metadata (9.3 kB)\n",
      "Collecting pyparsing>=2.3.1 (from matplotlib)\n",
      "  Downloading pyparsing-3.1.4-py3-none-any.whl.metadata (5.1 kB)\n",
      "Requirement already satisfied: python-dateutil>=2.7 in c:\\users\\mupea\\appdata\\local\\programs\\python\\python312\\lib\\site-packages (from matplotlib) (2.9.0.post0)\n",
      "Requirement already satisfied: six>=1.5 in c:\\users\\mupea\\appdata\\local\\programs\\python\\python312\\lib\\site-packages (from python-dateutil>=2.7->matplotlib) (1.16.0)\n",
      "Downloading matplotlib-3.9.2-cp312-cp312-win_amd64.whl (7.8 MB)\n",
      "   ---------------------------------------- 0.0/7.8 MB ? eta -:--:--\n",
      "   ------------ --------------------------- 2.4/7.8 MB 13.4 MB/s eta 0:00:01\n",
      "   -------------------------------- ------- 6.3/7.8 MB 15.4 MB/s eta 0:00:01\n",
      "   ---------------------------------------- 7.8/7.8 MB 14.7 MB/s eta 0:00:00\n",
      "Downloading contourpy-1.3.0-cp312-cp312-win_amd64.whl (218 kB)\n",
      "Downloading cycler-0.12.1-py3-none-any.whl (8.3 kB)\n",
      "Downloading fonttools-4.53.1-cp312-cp312-win_amd64.whl (2.2 MB)\n",
      "   ---------------------------------------- 0.0/2.2 MB ? eta -:--:--\n",
      "   ---------------------------------------- 2.2/2.2 MB 12.4 MB/s eta 0:00:00\n",
      "Downloading kiwisolver-1.4.7-cp312-cp312-win_amd64.whl (55 kB)\n",
      "Downloading numpy-2.1.1-cp312-cp312-win_amd64.whl (12.6 MB)\n",
      "   ---------------------------------------- 0.0/12.6 MB ? eta -:--:--\n",
      "   ------------- -------------------------- 4.2/12.6 MB 20.9 MB/s eta 0:00:01\n",
      "   ----------------------- ---------------- 7.3/12.6 MB 18.9 MB/s eta 0:00:01\n",
      "   ---------------------------------- ----- 10.7/12.6 MB 17.2 MB/s eta 0:00:01\n",
      "   ---------------------------------------- 12.6/12.6 MB 16.1 MB/s eta 0:00:00\n",
      "Downloading pillow-10.4.0-cp312-cp312-win_amd64.whl (2.6 MB)\n",
      "   ---------------------------------------- 0.0/2.6 MB ? eta -:--:--\n",
      "   -------------------------------- ------- 2.1/2.6 MB 11.8 MB/s eta 0:00:01\n",
      "   ---------------------------------------- 2.6/2.6 MB 9.8 MB/s eta 0:00:00\n",
      "Downloading pyparsing-3.1.4-py3-none-any.whl (104 kB)\n",
      "Installing collected packages: pyparsing, pillow, numpy, kiwisolver, fonttools, cycler, contourpy, matplotlib\n",
      "Successfully installed contourpy-1.3.0 cycler-0.12.1 fonttools-4.53.1 kiwisolver-1.4.7 matplotlib-3.9.2 numpy-2.1.1 pillow-10.4.0 pyparsing-3.1.4\n"
     ]
    }
   ],
   "source": [
    "!pip install matplotlib"
   ]
  },
  {
   "cell_type": "code",
   "execution_count": 25,
   "id": "f33b4218",
   "metadata": {},
   "outputs": [],
   "source": [
    "import matplotlib.pyplot as plt"
   ]
  },
  {
   "cell_type": "code",
   "execution_count": 26,
   "id": "ece92385",
   "metadata": {},
   "outputs": [
    {
     "data": {
      "text/plain": [
       "[<matplotlib.lines.Line2D at 0x20d915e6540>]"
      ]
     },
     "execution_count": 26,
     "metadata": {},
     "output_type": "execute_result"
    },
    {
     "data": {
      "image/png": "[encoded data removed]",
      "text/plain": [
       "<Figure size 640x480 with 1 Axes>"
      ]
     },
     "metadata": {},
     "output_type": "display_data"
    }
   ],
   "source": [
    "x = [1,2,3,4,5]\n",
    "y = [1,5,3,4,7]\n",
    "plt.plot(x,y)"
   ]
  },
  {
   "cell_type": "code",
   "execution_count": 27,
   "id": "6fa3d694",
   "metadata": {},
   "outputs": [
    {
     "data": {
      "text/plain": [
       "<BarContainer object of 5 artists>"
      ]
     },
     "execution_count": 27,
     "metadata": {},
     "output_type": "execute_result"
    },
    {
     "data": {
      "image/png": "[encoded data removed]",
      "text/plain": [
       "<Figure size 640x480 with 1 Axes>"
      ]
     },
     "metadata": {},
     "output_type": "display_data"
    }
   ],
   "source": [
    "plt.bar(x,y)"
   ]
  },
  {
   "cell_type": "code",
   "execution_count": null,
   "id": "a7c212e7",
   "metadata": {},
   "outputs": [],
   "source": []
  }
 ],
 "metadata": {
  "kernelspec": {
   "display_name": "Python 3 (ipykernel)",
   "language": "python",
   "name": "python3"
  },
  "language_info": {
   "codemirror_mode": {
    "name": "ipython",
    "version": 3
   },
   "file_extension": ".py",
   "mimetype": "text/x-python",
   "name": "python",
   "nbconvert_exporter": "python",
   "pygments_lexer": "ipython3",
   "version": "3.12.6"
  }
 },
 "nbformat": 4,
 "nbformat_minor": 5
}
