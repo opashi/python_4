{
 "cells": [
  {
   "cell_type": "code",
   "execution_count": 2,
   "id": "02b4ddac",
   "metadata": {
    "scrolled": true
   },
   "outputs": [
    {
     "data": {
      "text/plain": [
       "3"
      ]
     },
     "execution_count": 2,
     "metadata": {},
     "output_type": "execute_result"
    }
   ],
   "source": [
    "1+2\n",
    "\n",
    "#メモが書けます\n"
   ]
  },
  {
   "cell_type": "code",
   "execution_count": 1,
   "id": "dd0b9b9a",
   "metadata": {},
   "outputs": [
    {
     "data": {
      "text/plain": [
       "7"
      ]
     },
     "execution_count": 1,
     "metadata": {},
     "output_type": "execute_result"
    }
   ],
   "source": [
    "3+4"
   ]
  },
  {
   "cell_type": "markdown",
   "id": "45a5128f",
   "metadata": {},
   "source": [
    "テスト"
   ]
  },
  {
   "cell_type": "markdown",
   "id": "f4288359",
   "metadata": {},
   "source": [
    "## test"
   ]
  },
  {
   "cell_type": "markdown",
   "id": "399ccf54",
   "metadata": {},
   "source": [
    "これは  \n",
    "**テスト**\n",
    "です"
   ]
  },
  {
   "cell_type": "markdown",
   "id": "ed4e5264",
   "metadata": {},
   "source": [
    "- 1行名\n",
    "- 2行目\n",
    "- 3行目"
   ]
  },
  {
   "cell_type": "code",
   "execution_count": null,
   "id": "de25a588",
   "metadata": {},
   "outputs": [],
   "source": []
  }
 ],
 "metadata": {
  "kernelspec": {
   "display_name": "Python 3 (ipykernel)",
   "language": "python",
   "name": "python3"
  },
  "language_info": {
   "codemirror_mode": {
    "name": "ipython",
    "version": 3
   },
   "file_extension": ".py",
   "mimetype": "text/x-python",
   "name": "python",
   "nbconvert_exporter": "python",
   "pygments_lexer": "ipython3",
   "version": "3.12.6"
  }
 },
 "nbformat": 4,
 "nbformat_minor": 5
}
