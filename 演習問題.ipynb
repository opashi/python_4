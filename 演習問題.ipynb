{
 "cells": [
  {
   "cell_type": "markdown",
   "id": "eec1e2d1",
   "metadata": {},
   "source": [
    "#### 問１．変数xと変数yを使って、xをyで割った余りをzという名前の変数に代入してください。　※回答は1行で書くこと"
   ]
  },
  {
   "cell_type": "code",
   "execution_count": 1,
   "id": "e3800b79",
   "metadata": {},
   "outputs": [],
   "source": [
    "#このセルを実行した上で回答してください。\n",
    "x=\"78\"\n",
    "y=\"9\""
   ]
  },
  {
   "cell_type": "code",
   "execution_count": 2,
   "id": "a05e462c",
   "metadata": {},
   "outputs": [],
   "source": [
    "#回答欄\n",
    "z = int(x) % int(y)"
   ]
  },
  {
   "cell_type": "markdown",
   "id": "34b28d26",
   "metadata": {},
   "source": [
    "#### 問２．x,y,zを使って、「78を9で割った余りは6です。」という文字列をprintしてください。　※回答は1行で書くこと"
   ]
  },
  {
   "cell_type": "code",
   "execution_count": 14,
   "id": "93070e03",
   "metadata": {},
   "outputs": [
    {
     "name": "stdout",
     "output_type": "stream",
     "text": [
      "78を9で割った余りは6です。\n"
     ]
    }
   ],
   "source": [
    "#回答欄\n",
    "print(\"{}を{}で割った余りは{}です。\".format(x,y,z))"
   ]
  },
  {
   "cell_type": "markdown",
   "id": "6ab69d9c",
   "metadata": {},
   "source": [
    "#### 問３．list_aから、6と10をそれぞれ抽出してください。"
   ]
  },
  {
   "cell_type": "code",
   "execution_count": 4,
   "id": "c76fcc99",
   "metadata": {},
   "outputs": [],
   "source": [
    "#このセルを実行した上で回答してください。\n",
    "list_a=[1,2,3,4,5,6,7,8,9,10]"
   ]
  },
  {
   "cell_type": "code",
   "execution_count": 5,
   "id": "fcbc4abf",
   "metadata": {},
   "outputs": [
    {
     "name": "stdout",
     "output_type": "stream",
     "text": [
      "6と10\n"
     ]
    }
   ],
   "source": [
    "#回答欄\n",
    "print(str(list_a[5]) + \"と\" + str(list_a[9]))"
   ]
  },
  {
   "cell_type": "markdown",
   "id": "1ade9556",
   "metadata": {},
   "source": [
    "#### 問４．list_aの最後に、11を追加してください。"
   ]
  },
  {
   "cell_type": "code",
   "execution_count": 6,
   "id": "06c4da63",
   "metadata": {},
   "outputs": [],
   "source": [
    "#回答欄\n",
    "list_a.append(11)"
   ]
  },
  {
   "cell_type": "markdown",
   "id": "5d615b09",
   "metadata": {},
   "source": [
    "#### 問５．for文を使って、list_aの各要素を2倍したlist_bを作成してください。"
   ]
  },
  {
   "cell_type": "code",
   "execution_count": 7,
   "id": "07f7f78c",
   "metadata": {},
   "outputs": [
    {
     "name": "stdout",
     "output_type": "stream",
     "text": [
      "[2, 4, 6, 8, 10, 12, 14, 16, 18, 20, 22]\n"
     ]
    }
   ],
   "source": [
    "#回答欄\n",
    "list_b =[]\n",
    "for i in range(len(list_a)) :\n",
    "    list_b.append(list_a[i] * 2)\n",
    "\n",
    "print(list_b)"
   ]
  },
  {
   "cell_type": "markdown",
   "id": "416688ef",
   "metadata": {},
   "source": [
    "#### 問６．for文とif文を使って、list_bから3の倍数のみを抽出したlist_cを作成してください。"
   ]
  },
  {
   "cell_type": "code",
   "execution_count": 8,
   "id": "69fbd3b9",
   "metadata": {},
   "outputs": [
    {
     "name": "stdout",
     "output_type": "stream",
     "text": [
      "[6, 12, 18]\n"
     ]
    }
   ],
   "source": [
    "#回答欄\n",
    "list_c = []\n",
    "for i in range(len(list_b)) :\n",
    "    if list_b[i] % 3 == 0 :\n",
    "        list_c.append(list_b[i])\n",
    "        \n",
    "print(list_c)"
   ]
  },
  {
   "cell_type": "markdown",
   "id": "8d993cb5",
   "metadata": {},
   "source": [
    "#### 問７．list_cとenumerateを使って、  \n",
    "　　　0番目の要素は6です。  \n",
    "　　　1番目の要素は12です。  \n",
    "　　　2番目の要素は18です。  \n",
    "#### 　　　とprintしてください。"
   ]
  },
  {
   "cell_type": "code",
   "execution_count": 15,
   "id": "97b14592",
   "metadata": {},
   "outputs": [
    {
     "name": "stdout",
     "output_type": "stream",
     "text": [
      "0番目の要素は6です。\n",
      "1番目の要素は12です。\n",
      "2番目の要素は18です。\n"
     ]
    }
   ],
   "source": [
    "#回答欄\n",
    "for i,j in enumerate(list_c) :\n",
    "    print(\"{}番目の要素は{}です。\".format(i,j))"
   ]
  },
  {
   "cell_type": "markdown",
   "id": "c2bcc0d6",
   "metadata": {},
   "source": [
    "#### 問８．変数filenameから、「ver」の後の数字部分を抽出して、versionという変数に代入してください。"
   ]
  },
  {
   "cell_type": "code",
   "execution_count": 10,
   "id": "472d8d0e",
   "metadata": {},
   "outputs": [],
   "source": [
    "#このセルを実行した上で回答してください。\n",
    "filename=\"資料_ver1.0.2\""
   ]
  },
  {
   "cell_type": "code",
   "execution_count": 16,
   "id": "a61d82d4",
   "metadata": {},
   "outputs": [
    {
     "name": "stdout",
     "output_type": "stream",
     "text": [
      "1.0.2\n"
     ]
    }
   ],
   "source": [
    "#回答欄\n",
    "version = filename[6:11]\n",
    "print(version)"
   ]
  },
  {
   "cell_type": "markdown",
   "id": "2143e38b",
   "metadata": {},
   "source": [
    "#### 問９．このjupyterファイル（演習問題.ipynb）の絶対パスを取得し、変数pathに代入してください。"
   ]
  },
  {
   "cell_type": "code",
   "execution_count": 12,
   "id": "506cfec4",
   "metadata": {},
   "outputs": [
    {
     "name": "stdout",
     "output_type": "stream",
     "text": [
      "C:\\Users\\mupea\\OneDrive\\デスクトップ\\python\\4章\\演習問題.ipynb\n"
     ]
    }
   ],
   "source": [
    "#回答欄\n",
    "import os\n",
    "path = os.path.abspath(\"演習問題.ipynb\")\n",
    "print(path)"
   ]
  },
  {
   "cell_type": "markdown",
   "id": "68571763",
   "metadata": {},
   "source": [
    "#### 問１０．timeというライブラリとfor文を使って、実行後1秒ごとに「○秒経過」、5秒経過後に「処理終了」とprintするプログラムを作ってください。"
   ]
  },
  {
   "cell_type": "code",
   "execution_count": 20,
   "id": "29f0fdc2",
   "metadata": {},
   "outputs": [
    {
     "name": "stdout",
     "output_type": "stream",
     "text": [
      "1秒経過\n",
      "2秒経過\n",
      "3秒経過\n",
      "4秒経過\n",
      "5秒経過\n",
      "処理終了\n"
     ]
    }
   ],
   "source": [
    "#回答欄\n",
    "import time\n",
    "start_time = time.process_time()\n",
    "flg1 = False\n",
    "flg2 = False\n",
    "flg3 = False\n",
    "flg4 = False\n",
    "flg5 = False\n",
    "\n",
    "for i in range(60000000) :\n",
    "    if time.process_time() - start_time ==  1 and flg1 == False:\n",
    "        print(\"1秒経過\")\n",
    "        flg1 = True\n",
    "    elif time.process_time() - start_time ==  2 and flg2 == False:\n",
    "        print(\"2秒経過\")\n",
    "        flg2 = True\n",
    "    elif time.process_time() - start_time ==  3 and flg3 == False:\n",
    "        print(\"3秒経過\")\n",
    "        flg3 = True\n",
    "    elif time.process_time() - start_time ==  4 and flg4 == False:\n",
    "        print(\"4秒経過\")\n",
    "        flg4 = True\n",
    "    elif time.process_time() - start_time ==  5 and flg5 == False:\n",
    "        print(\"5秒経過\")\n",
    "        print(\"処理終了\")\n",
    "        flg5 = True\n",
    "        break"
   ]
  },
  {
   "cell_type": "code",
   "execution_count": 21,
   "id": "fff6b8fa",
   "metadata": {},
   "outputs": [
    {
     "name": "stdout",
     "output_type": "stream",
     "text": [
      "1秒経過\n",
      "2秒経過\n",
      "3秒経過\n",
      "4秒経過\n",
      "5秒経過\n",
      "処理終了\n"
     ]
    }
   ],
   "source": [
    "import time\n",
    "for i in range(1,6) :\n",
    "    #1秒待つ\n",
    "    time.sleep(1)\n",
    "    print(\"{}秒経過\".format(i))\n",
    "print(\"処理終了\")"
   ]
  },
  {
   "cell_type": "code",
   "execution_count": null,
   "id": "e0e11740",
   "metadata": {},
   "outputs": [],
   "source": []
  }
 ],
 "metadata": {
  "kernelspec": {
   "display_name": "Python 3 (ipykernel)",
   "language": "python",
   "name": "python3"
  },
  "language_info": {
   "codemirror_mode": {
    "name": "ipython",
    "version": 3
   },
   "file_extension": ".py",
   "mimetype": "text/x-python",
   "name": "python",
   "nbconvert_exporter": "python",
   "pygments_lexer": "ipython3",
   "version": "3.12.6"
  },
  "varInspector": {
   "cols": {
    "lenName": 16,
    "lenType": 16,
    "lenVar": 40
   },
   "kernels_config": {
    "python": {
     "delete_cmd_postfix": "",
     "delete_cmd_prefix": "del ",
     "library": "var_list.py",
     "varRefreshCmd": "print(var_dic_list())"
    },
    "r": {
     "delete_cmd_postfix": ") ",
     "delete_cmd_prefix": "rm(",
     "library": "var_list.r",
     "varRefreshCmd": "cat(var_dic_list()) "
    }
   },
   "types_to_exclude": [
    "module",
    "function",
    "builtin_function_or_method",
    "instance",
    "_Feature"
   ],
   "window_display": false
  }
 },
 "nbformat": 4,
 "nbformat_minor": 5
}
